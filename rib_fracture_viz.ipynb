{
 "cells": [
  {
   "cell_type": "code",
   "execution_count": 1,
   "metadata": {},
   "outputs": [],
   "source": [
    "# Import all the necessary packages\n",
    "import numpy as np\n",
    "import nibabel as nib\n",
    "import itk\n",
    "import itkwidgets\n",
    "from ipywidgets import interact, interactive, IntSlider, ToggleButtons\n",
    "import matplotlib.pyplot as plt\n",
    "import cv2\n",
    "from dataset.fracnet_dataset import FracNetTrainDataset\n",
    "from dataset import transforms as tsfm\n",
    "\n",
    "%matplotlib inline\n",
    "import seaborn as sns\n",
    "sns.set_style('darkgrid')"
   ]
  },
  {
   "cell_type": "markdown",
   "metadata": {},
   "source": [
    "<h3>Data Loading</h3>"
   ]
  },
  {
   "cell_type": "code",
   "execution_count": 2,
   "metadata": {
    "tags": []
   },
   "outputs": [],
   "source": [
    "# Load the image data\n",
    "def load_img_data(image_path):\n",
    "    image_obj = nib.load(image_path)\n",
    "    return image_obj.get_fdata()\n",
    "gray_img1 = load_img_data(\"/home/ryan/PycharmProjects/FracNet/data/train/ribfrac-train-images/RibFrac301-image.nii.gz\")\n",
    "gray_img2 = load_img_data(\"/home/ryan/PycharmProjects/FracNet/data/val/ribfrac-val-images/RibFrac381-image.nii.gz\")\n",
    "gray_img3 = load_img_data(\"/home/ryan/PycharmProjects/FracNet/data/val/ribfrac-val-images/RibFrac382-image.nii.gz\")\n",
    "label_img1 = load_img_data(\"/home/ryan/PycharmProjects/FracNet/data/train/ribfrac-train-labels/RibFrac301-label.nii.gz\")\n",
    "label_img2 = load_img_data(\"/home/ryan/PycharmProjects/FracNet/data/val/ribfrac-val-labels/RibFrac381-label.nii.gz\")\n",
    "label_img3 = load_img_data(\"/home/ryan/PycharmProjects/FracNet/data/val/ribfrac-val-labels/RibFrac382-label.nii.gz\")\n",
    "pred_img2 = load_img_data(\"/home/ryan/PycharmProjects/FracNet/data/val/ribfra-val-pred_w_const_gauss_noise/RibFrac381-label.nii.gz\")\n",
    "pred_img3 = load_img_data(\"/home/ryan/PycharmProjects/FracNet/data/val/ribfra-val-pred_w_const_gauss_noise/RibFrac382-label.nii.gz\")"
   ]
  },
  {
   "cell_type": "markdown",
   "metadata": {},
   "source": [
    "<h3>Colours</h3>"
   ]
  },
  {
   "cell_type": "code",
   "execution_count": 3,
   "metadata": {},
   "outputs": [],
   "source": [
    "red = np.array([255, 0, 0])\n",
    "blue = np.array([0, 0, 140])\n",
    "green = np.array([0, 100, 0])"
   ]
  },
  {
   "cell_type": "code",
   "execution_count": 4,
   "metadata": {},
   "outputs": [],
   "source": [
    "def convert_gray_to_rgb(gray_img):\n",
    "    stacked_img = np.stack((gray_img,)*3, axis=-1)\n",
    "    stacked_img_sca = (stacked_img - stacked_img.min()) / (stacked_img.max() - stacked_img.min())\n",
    "    return (stacked_img_sca*255).astype(int)"
   ]
  },
  {
   "cell_type": "code",
   "execution_count": 5,
   "metadata": {},
   "outputs": [],
   "source": [
    "rgb_img1 = convert_gray_to_rgb(gray_img1)\n",
    "rgb_img2 = convert_gray_to_rgb(gray_img2)\n",
    "rgb_img3 = convert_gray_to_rgb(gray_img3)"
   ]
  },
  {
   "cell_type": "code",
   "execution_count": 6,
   "metadata": {},
   "outputs": [
    {
     "data": {
      "text/plain": [
       "((512, 512, 407, 3), (512, 512, 349, 3), (512, 512, 313, 3))"
      ]
     },
     "execution_count": 6,
     "metadata": {},
     "output_type": "execute_result"
    }
   ],
   "source": [
    "(rgb_img1.shape, rgb_img2.shape, rgb_img3.shape)"
   ]
  },
  {
   "cell_type": "markdown",
   "metadata": {},
   "source": [
    "<h3>Exploration</h3>\n",
    "<p><b>Visualize original volume (Image 1)</b></p>"
   ]
  },
  {
   "cell_type": "code",
   "execution_count": 7,
   "metadata": {},
   "outputs": [
    {
     "data": {
      "application/vnd.jupyter.widget-view+json": {
       "model_id": "d22229204fa44341a42b02731562d8f2",
       "version_major": 2,
       "version_minor": 0
      },
      "text/plain": [
       "interactive(children=(IntSlider(value=203, description='layer', max=406), Output()), _dom_classes=('widget-int…"
      ]
     },
     "metadata": {},
     "output_type": "display_data"
    }
   ],
   "source": [
    "# Define a function to visualize the data\n",
    "def explore_3dimage(layer):\n",
    "    plt.figure(figsize=(20, 10))\n",
    "    plt.imshow(gray_img1[:, :, layer], cmap='gray');\n",
    "    plt.title('Explore Layers of Ribs', fontsize=20)\n",
    "    plt.axis('off')\n",
    "    return layer\n",
    "    \n",
    "# Run the ipywidgets interact() function to explore the data\n",
    "interact(explore_3dimage, layer=(0, gray_img1.shape[2] - 1));"
   ]
  },
  {
   "cell_type": "markdown",
   "metadata": {},
   "source": [
    "<p><b>Visualize the fractures (Image 1)</b></p>"
   ]
  },
  {
   "cell_type": "code",
   "execution_count": 8,
   "metadata": {},
   "outputs": [],
   "source": [
    "rgb_img1_w_labels = rgb_img1.copy()"
   ]
  },
  {
   "cell_type": "code",
   "execution_count": 9,
   "metadata": {},
   "outputs": [],
   "source": [
    "rgb_img1_w_labels[np.where(label_img1 != 0)] = np.array([255, 0, 0])"
   ]
  },
  {
   "cell_type": "code",
   "execution_count": 10,
   "metadata": {},
   "outputs": [
    {
     "data": {
      "application/vnd.jupyter.widget-view+json": {
       "model_id": "ff4762778c694d6abba339a27fce0e76",
       "version_major": 2,
       "version_minor": 0
      },
      "text/plain": [
       "interactive(children=(IntSlider(value=203, description='layer', max=406), Output()), _dom_classes=('widget-int…"
      ]
     },
     "metadata": {},
     "output_type": "display_data"
    }
   ],
   "source": [
    "# Define a function to visualize the data\n",
    "def explore_3dimage(layer):\n",
    "    fig, (ax1, ax2) = plt.subplots(1, 2, figsize=(20, 20))\n",
    "    ax1.imshow(rgb_img1[:, :, layer, :])\n",
    "    ax2.imshow(rgb_img1_w_labels[:, :, layer, :])\n",
    "    # fig.suptitle('Horizontally stacked subplots')\n",
    "    # fig.tight_layout()\n",
    "    ax1.axis('off')\n",
    "    ax2.axis('off')\n",
    "    ax1.set_title('Original image', fontsize=22)\n",
    "    ax2.set_title('Image with fracture', fontsize=22)\n",
    "    return layer\n",
    "    \n",
    "# Run the ipywidgets interact() function to explore the data\n",
    "interact(explore_3dimage, layer=(0, rgb_img1.shape[2] - 1));"
   ]
  },
  {
   "cell_type": "markdown",
   "metadata": {},
   "source": [
    "<p><b>Visualize the inference (Image 2)</b></p>"
   ]
  },
  {
   "cell_type": "code",
   "execution_count": 11,
   "metadata": {},
   "outputs": [],
   "source": [
    "rgb_img2_w_preds = rgb_img2.copy()"
   ]
  },
  {
   "cell_type": "code",
   "execution_count": 12,
   "metadata": {},
   "outputs": [],
   "source": [
    "rgb_img2_w_preds[np.where(pred_img2 != 0)] = red"
   ]
  },
  {
   "cell_type": "code",
   "execution_count": 13,
   "metadata": {},
   "outputs": [
    {
     "data": {
      "application/vnd.jupyter.widget-view+json": {
       "model_id": "6d678a4ce18d48a3915b15fbc9bc51cf",
       "version_major": 2,
       "version_minor": 0
      },
      "text/plain": [
       "interactive(children=(IntSlider(value=174, description='layer', max=348), Output()), _dom_classes=('widget-int…"
      ]
     },
     "metadata": {},
     "output_type": "display_data"
    }
   ],
   "source": [
    "# Define a function to visualize the data\n",
    "def explore_3dimage(layer):\n",
    "    fig, (ax1, ax2) = plt.subplots(1, 2, figsize=(20, 20))\n",
    "    ax1.imshow(rgb_img2[:, :, layer, :])\n",
    "    ax2.imshow(rgb_img2_w_preds[:, :, layer, :])\n",
    "    # fig.suptitle('Horizontally stacked subplots')\n",
    "    # fig.tight_layout()\n",
    "    ax1.axis('off')\n",
    "    ax2.axis('off')\n",
    "    ax1.set_title('Original image', fontsize=22)\n",
    "    ax2.set_title('Image with fracture pred', fontsize=22)\n",
    "    return layer\n",
    "    \n",
    "# Run the ipywidgets interact() function to explore the data\n",
    "interact(explore_3dimage, layer=(0, rgb_img2.shape[2] - 1));"
   ]
  },
  {
   "cell_type": "markdown",
   "metadata": {},
   "source": [
    "<p><b>Visualize the inference vs label (Image 2)</b></p>"
   ]
  },
  {
   "cell_type": "code",
   "execution_count": 14,
   "metadata": {},
   "outputs": [],
   "source": [
    "rgb_img2_w_preds_n_labels = rgb_img2.copy()"
   ]
  },
  {
   "cell_type": "code",
   "execution_count": 15,
   "metadata": {},
   "outputs": [],
   "source": [
    "true_pos_cond = (pred_img2 != 0) & (label_img2 != 0)\n",
    "false_pos_cond = (pred_img2 != 0) & (label_img2 == 0)\n",
    "false_neg_cond = (pred_img2 == 0) & (label_img2 != 0)\n",
    "rgb_img2_w_preds_n_labels[np.where(true_pos_cond)] = red\n",
    "rgb_img2_w_preds_n_labels[np.where(false_pos_cond)] = blue\n",
    "rgb_img2_w_preds_n_labels[np.where(false_neg_cond)] = green"
   ]
  },
  {
   "cell_type": "code",
   "execution_count": 16,
   "metadata": {},
   "outputs": [
    {
     "data": {
      "text/plain": [
       "((512, 512, 349), (512, 512, 349))"
      ]
     },
     "execution_count": 16,
     "metadata": {},
     "output_type": "execute_result"
    }
   ],
   "source": [
    "(pred_img2.shape, label_img2.shape)"
   ]
  },
  {
   "cell_type": "code",
   "execution_count": 17,
   "metadata": {},
   "outputs": [
    {
     "data": {
      "application/vnd.jupyter.widget-view+json": {
       "model_id": "a62a5e913f4b4c25a6c477470d6d1db4",
       "version_major": 2,
       "version_minor": 0
      },
      "text/plain": [
       "interactive(children=(IntSlider(value=174, description='layer', max=348), Output()), _dom_classes=('widget-int…"
      ]
     },
     "metadata": {},
     "output_type": "display_data"
    }
   ],
   "source": [
    "# Define a function to visualize the data\n",
    "def explore_3dimage(layer):\n",
    "    fig, (ax1, ax2) = plt.subplots(1, 2, figsize=(20, 20))\n",
    "    ax1.imshow(rgb_img2[:, :, layer, :])\n",
    "    ax2.imshow(rgb_img2_w_preds_n_labels[:, :, layer, :])\n",
    "    # fig.suptitle('Horizontally stacked subplots')\n",
    "    # fig.tight_layout()\n",
    "    ax1.axis('off')\n",
    "    ax2.axis('off')\n",
    "    ax1.set_title('Original image', fontsize=22)\n",
    "    ax2.set_title('Image w inference (TP: red, FP: blue, FN: green)', fontsize=22)\n",
    "    return layer\n",
    "    \n",
    "# Run the ipywidgets interact() function to explore the data\n",
    "interact(explore_3dimage, layer=(0, rgb_img2.shape[2] - 1));"
   ]
  },
  {
   "cell_type": "markdown",
   "metadata": {},
   "source": [
    "<p><b>Visualize the ROIs (Image 2)</b></p>"
   ]
  },
  {
   "cell_type": "code",
   "execution_count": 18,
   "metadata": {},
   "outputs": [],
   "source": [
    "rgb_img2_w_rois = rgb_img2.copy()"
   ]
  },
  {
   "cell_type": "code",
   "execution_count": 19,
   "metadata": {},
   "outputs": [],
   "source": [
    "transforms = [\n",
    "    tsfm.Window(-200, 1000),\n",
    "    tsfm.MinMaxNorm(-200, 1000)\n",
    "]\n",
    "\n",
    "frac_dataset = FracNetTrainDataset(\n",
    "    image_dir='/home/ryan/PycharmProjects/FracNet/data/val/ribfrac-val-images/', \n",
    "    label_dir='/home/ryan/PycharmProjects/FracNet/data/val/ribfrac-val-labels/',\n",
    "    transforms=transforms\n",
    ")"
   ]
  },
  {
   "cell_type": "code",
   "execution_count": 20,
   "metadata": {},
   "outputs": [],
   "source": [
    "# Retrieve ROIs\n",
    "pos_centroids = frac_dataset._get_pos_centroids(label_img2.astype(int))\n",
    "neg_centroids = frac_dataset._get_neg_centroids(pos_centroids, label_img2.shape)"
   ]
  },
  {
   "cell_type": "code",
   "execution_count": 21,
   "metadata": {},
   "outputs": [],
   "source": [
    "def get_roi_coordinates(img_arr, centroid, crop_size=64):\n",
    "    src_beg = [max(0, centroid[i] - crop_size // 2) for i in range(len(centroid))]\n",
    "    src_end = [min(img_arr.shape[i], centroid[i] + crop_size // 2) for i in range(len(centroid))]\n",
    "    dst_beg = [max(0, crop_size // 2 - centroid[i]) for i in range(len(centroid))]\n",
    "    dst_end = [min(img_arr.shape[i] - (centroid[i] - crop_size // 2), crop_size) for i in range(len(centroid))]\n",
    "    return src_beg, src_end, dst_beg, dst_end"
   ]
  },
  {
   "cell_type": "code",
   "execution_count": 22,
   "metadata": {},
   "outputs": [],
   "source": [
    "pos_roi_coordinates = [get_roi_coordinates(rgb_img2_w_rois, roi) for roi in pos_centroids]\n",
    "neg_roi_coordinates = [get_roi_coordinates(rgb_img2_w_rois, roi) for roi in neg_centroids]"
   ]
  },
  {
   "cell_type": "code",
   "execution_count": 23,
   "metadata": {},
   "outputs": [],
   "source": [
    "for src_beg, src_end, dst_beg, dst_end in pos_roi_coordinates:\n",
    "    rgb_img2_w_rois[\n",
    "        src_beg[0]:src_end[0],\n",
    "        src_beg[1]:src_end[1],\n",
    "        src_beg[2]:src_end[2],\n",
    "        :\n",
    "    ] = blue"
   ]
  },
  {
   "cell_type": "code",
   "execution_count": 24,
   "metadata": {},
   "outputs": [],
   "source": [
    "for src_beg, src_end, dst_beg, dst_end in neg_roi_coordinates:\n",
    "    rgb_img2_w_rois[\n",
    "        src_beg[0]:src_end[0],\n",
    "        src_beg[1]:src_end[1],\n",
    "        src_beg[2]:src_end[2],\n",
    "        :\n",
    "    ] = green"
   ]
  },
  {
   "cell_type": "code",
   "execution_count": 25,
   "metadata": {},
   "outputs": [],
   "source": [
    "rgb_img2_w_rois[np.where(label_img2 != 0)] = red"
   ]
  },
  {
   "cell_type": "code",
   "execution_count": 26,
   "metadata": {},
   "outputs": [
    {
     "data": {
      "application/vnd.jupyter.widget-view+json": {
       "model_id": "6d2fc1a38eed47f58cf3b9fa48d00f2e",
       "version_major": 2,
       "version_minor": 0
      },
      "text/plain": [
       "interactive(children=(IntSlider(value=174, description='layer', max=348), Output()), _dom_classes=('widget-int…"
      ]
     },
     "metadata": {},
     "output_type": "display_data"
    }
   ],
   "source": [
    "# Define a function to visualize the data\n",
    "def explore_3dimage(layer):\n",
    "    fig, (ax1, ax2) = plt.subplots(1, 2, figsize=(20, 20))\n",
    "    ax1.imshow(rgb_img2[:, :, layer, :])\n",
    "    ax2.imshow(rgb_img2_w_rois[:, :, layer, :])\n",
    "    # fig.suptitle('Horizontally stacked subplots')\n",
    "    # fig.tight_layout()\n",
    "    ax1.axis('off')\n",
    "    ax2.axis('off')\n",
    "    ax1.set_title('Original image', fontsize=22)\n",
    "    ax2.set_title('Image w ROIs (Fracture: red, Pos ROI: blue, Neg ROI: green)', fontsize=22)\n",
    "    return layer\n",
    "    \n",
    "# Run the ipywidgets interact() function to explore the data\n",
    "interact(explore_3dimage, layer=(0, rgb_img2.shape[2] - 1));"
   ]
  },
  {
   "cell_type": "markdown",
   "metadata": {},
   "source": [
    "<p><b>Visualize the ROIs (Image 3)</b></p>"
   ]
  },
  {
   "cell_type": "code",
   "execution_count": 27,
   "metadata": {},
   "outputs": [],
   "source": [
    "rgb_img3_w_rois = rgb_img3.copy()"
   ]
  },
  {
   "cell_type": "code",
   "execution_count": 28,
   "metadata": {},
   "outputs": [],
   "source": [
    "transforms = [\n",
    "    tsfm.Window(-200, 1000),\n",
    "    tsfm.MinMaxNorm(-200, 1000)\n",
    "]\n",
    "\n",
    "frac_dataset = FracNetTrainDataset(\n",
    "    image_dir='/home/ryan/PycharmProjects/FracNet/data/val/ribfrac-val-images/', \n",
    "    label_dir='/home/ryan/PycharmProjects/FracNet/data/val/ribfrac-val-labels/',\n",
    "    transforms=transforms\n",
    ")"
   ]
  },
  {
   "cell_type": "code",
   "execution_count": 29,
   "metadata": {},
   "outputs": [],
   "source": [
    "# Retrieve ROIs\n",
    "pos_centroids = frac_dataset._get_pos_centroids(label_img3.astype(int))\n",
    "neg_centroids = frac_dataset._get_neg_centroids(pos_centroids, label_img3.shape)"
   ]
  },
  {
   "cell_type": "code",
   "execution_count": 30,
   "metadata": {},
   "outputs": [],
   "source": [
    "def get_roi_coordinates(img_arr, centroid, crop_size=64):\n",
    "    src_beg = [max(0, centroid[i] - crop_size // 2) for i in range(len(centroid))]\n",
    "    src_end = [min(img_arr.shape[i], centroid[i] + crop_size // 2) for i in range(len(centroid))]\n",
    "    dst_beg = [max(0, crop_size // 2 - centroid[i]) for i in range(len(centroid))]\n",
    "    dst_end = [min(img_arr.shape[i] - (centroid[i] - crop_size // 2), crop_size) for i in range(len(centroid))]\n",
    "    return src_beg, src_end, dst_beg, dst_end"
   ]
  },
  {
   "cell_type": "code",
   "execution_count": 31,
   "metadata": {},
   "outputs": [],
   "source": [
    "pos_roi_coordinates = [get_roi_coordinates(rgb_img3_w_rois, roi) for roi in pos_centroids]\n",
    "neg_roi_coordinates = [get_roi_coordinates(rgb_img3_w_rois, roi) for roi in neg_centroids]"
   ]
  },
  {
   "cell_type": "code",
   "execution_count": 32,
   "metadata": {},
   "outputs": [],
   "source": [
    "for src_beg, src_end, dst_beg, dst_end in pos_roi_coordinates:\n",
    "    rgb_img3_w_rois[\n",
    "        src_beg[0]:src_end[0],\n",
    "        src_beg[1]:src_end[1],\n",
    "        src_beg[2]:src_end[2],\n",
    "        :\n",
    "    ] = blue"
   ]
  },
  {
   "cell_type": "code",
   "execution_count": 33,
   "metadata": {},
   "outputs": [],
   "source": [
    "for src_beg, src_end, dst_beg, dst_end in neg_roi_coordinates:\n",
    "    rgb_img3_w_rois[\n",
    "        src_beg[0]:src_end[0],\n",
    "        src_beg[1]:src_end[1],\n",
    "        src_beg[2]:src_end[2],\n",
    "        :\n",
    "    ] = green"
   ]
  },
  {
   "cell_type": "code",
   "execution_count": 34,
   "metadata": {},
   "outputs": [],
   "source": [
    "rgb_img3_w_rois[np.where(label_img3 != 0)] = red"
   ]
  },
  {
   "cell_type": "code",
   "execution_count": 35,
   "metadata": {},
   "outputs": [
    {
     "data": {
      "application/vnd.jupyter.widget-view+json": {
       "model_id": "bb625ed50e47432b8888e34e3619eaa9",
       "version_major": 2,
       "version_minor": 0
      },
      "text/plain": [
       "interactive(children=(IntSlider(value=156, description='layer', max=312), Output()), _dom_classes=('widget-int…"
      ]
     },
     "metadata": {},
     "output_type": "display_data"
    }
   ],
   "source": [
    "# Define a function to visualize the data\n",
    "def explore_3dimage(layer):\n",
    "    fig, (ax1, ax2) = plt.subplots(1, 2, figsize=(20, 20))\n",
    "    ax1.imshow(rgb_img3[:, :, layer, :])\n",
    "    ax2.imshow(rgb_img3_w_rois[:, :, layer, :])\n",
    "    # fig.suptitle('Horizontally stacked subplots')\n",
    "    # fig.tight_layout()\n",
    "    ax1.axis('off')\n",
    "    ax2.axis('off')\n",
    "    ax1.set_title('Original image', fontsize=22)\n",
    "    ax2.set_title('Image w ROIs (Fracture: red, Pos ROI: blue, Neg ROI: green)', fontsize=22)\n",
    "    return layer\n",
    "    \n",
    "# Run the ipywidgets interact() function to explore the data\n",
    "interact(explore_3dimage, layer=(0, rgb_img3.shape[2] - 1));"
   ]
  },
  {
   "cell_type": "code",
   "execution_count": null,
   "metadata": {},
   "outputs": [],
   "source": []
  },
  {
   "cell_type": "code",
   "execution_count": null,
   "metadata": {},
   "outputs": [],
   "source": []
  }
 ],
 "metadata": {
  "kernelspec": {
   "display_name": "Python 3 (ipykernel)",
   "language": "python",
   "name": "python3"
  },
  "language_info": {
   "codemirror_mode": {
    "name": "ipython",
    "version": 3
   },
   "file_extension": ".py",
   "mimetype": "text/x-python",
   "name": "python",
   "nbconvert_exporter": "python",
   "pygments_lexer": "ipython3",
   "version": "3.9.7"
  }
 },
 "nbformat": 4,
 "nbformat_minor": 4
}
